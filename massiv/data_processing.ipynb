{
 "cells": [
  {
   "cell_type": "markdown",
   "metadata": {},
   "source": [
    "### 데이터 수집 및 전처리"
   ]
  },
  {
   "cell_type": "code",
   "execution_count": 132,
   "metadata": {},
   "outputs": [],
   "source": [
    "# 라이브러리\n",
    "\n",
    "import os\n",
    "import pandas as pd"
   ]
  },
  {
   "cell_type": "markdown",
   "metadata": {},
   "source": [
    "#### 1. 접속 경로 데이터 불러오기"
   ]
  },
  {
   "cell_type": "code",
   "execution_count": 135,
   "metadata": {},
   "outputs": [
    {
     "data": {
      "text/html": [
       "<div>\n",
       "<style scoped>\n",
       "    .dataframe tbody tr th:only-of-type {\n",
       "        vertical-align: middle;\n",
       "    }\n",
       "\n",
       "    .dataframe tbody tr th {\n",
       "        vertical-align: top;\n",
       "    }\n",
       "\n",
       "    .dataframe thead th {\n",
       "        text-align: right;\n",
       "    }\n",
       "</style>\n",
       "<table border=\"1\" class=\"dataframe\">\n",
       "  <thead>\n",
       "    <tr style=\"text-align: right;\">\n",
       "      <th></th>\n",
       "      <th>date</th>\n",
       "      <th>domain</th>\n",
       "      <th>access_count</th>\n",
       "    </tr>\n",
       "  </thead>\n",
       "  <tbody>\n",
       "    <tr>\n",
       "      <th>0</th>\n",
       "      <td>2024-10-15</td>\n",
       "      <td>massivedu.co.kr</td>\n",
       "      <td>26</td>\n",
       "    </tr>\n",
       "    <tr>\n",
       "      <th>1</th>\n",
       "      <td>2024-10-15</td>\n",
       "      <td>search.naver.com</td>\n",
       "      <td>11</td>\n",
       "    </tr>\n",
       "    <tr>\n",
       "      <th>2</th>\n",
       "      <td>2024-10-15</td>\n",
       "      <td>m.search.naver.com</td>\n",
       "      <td>9</td>\n",
       "    </tr>\n",
       "  </tbody>\n",
       "</table>\n",
       "</div>"
      ],
      "text/plain": [
       "        date              domain  access_count\n",
       "0 2024-10-15     massivedu.co.kr            26\n",
       "1 2024-10-15    search.naver.com            11\n",
       "2 2024-10-15  m.search.naver.com             9"
      ]
     },
     "execution_count": 135,
     "metadata": {},
     "output_type": "execute_result"
    }
   ],
   "source": [
    "# 설명 : 날짜별로 어떤 도메인으로 얼마나 접속했는지에 대한 데이터\n",
    "\n",
    "access_df = pd.read_excel('./data/funnels/access_path.xlsx')\n",
    "access_df.columns = ['date', 'domain', 'access_count']\n",
    "access_df['date'] = pd.to_datetime(access_df['date'])\n",
    "access_df.head(3)"
   ]
  },
  {
   "cell_type": "markdown",
   "metadata": {},
   "source": [
    "#### 2. 방문 페이지 데이터 불러오기"
   ]
  },
  {
   "cell_type": "code",
   "execution_count": 136,
   "metadata": {},
   "outputs": [
    {
     "data": {
      "text/html": [
       "<div>\n",
       "<style scoped>\n",
       "    .dataframe tbody tr th:only-of-type {\n",
       "        vertical-align: middle;\n",
       "    }\n",
       "\n",
       "    .dataframe tbody tr th {\n",
       "        vertical-align: top;\n",
       "    }\n",
       "\n",
       "    .dataframe thead th {\n",
       "        text-align: right;\n",
       "    }\n",
       "</style>\n",
       "<table border=\"1\" class=\"dataframe\">\n",
       "  <thead>\n",
       "    <tr style=\"text-align: right;\">\n",
       "      <th></th>\n",
       "      <th>date</th>\n",
       "      <th>page_name</th>\n",
       "      <th>page_views</th>\n",
       "    </tr>\n",
       "  </thead>\n",
       "  <tbody>\n",
       "    <tr>\n",
       "      <th>0</th>\n",
       "      <td>2024-07-28</td>\n",
       "      <td>HOMEold202408</td>\n",
       "      <td>50</td>\n",
       "    </tr>\n",
       "    <tr>\n",
       "      <th>1</th>\n",
       "      <td>2024-07-28</td>\n",
       "      <td>경복궁 - 7/19 오픈</td>\n",
       "      <td>34</td>\n",
       "    </tr>\n",
       "    <tr>\n",
       "      <th>2</th>\n",
       "      <td>2024-07-28</td>\n",
       "      <td>중계점</td>\n",
       "      <td>21</td>\n",
       "    </tr>\n",
       "  </tbody>\n",
       "</table>\n",
       "</div>"
      ],
      "text/plain": [
       "        date      page_name  page_views\n",
       "0 2024-07-28  HOMEold202408          50\n",
       "1 2024-07-28  경복궁 - 7/19 오픈          34\n",
       "2 2024-07-28            중계점          21"
      ]
     },
     "execution_count": 136,
     "metadata": {},
     "output_type": "execute_result"
    }
   ],
   "source": [
    "# 설명 : 날짜별로 각 페이지에 접근한 데이터\n",
    "\n",
    "merged_data = []\n",
    "\n",
    "# 경로 설정\n",
    "page_path = './data/page'\n",
    "\n",
    "# 월별 폴더(폴더명이 'm'로 시작하는 경우만 필터링)\n",
    "month_folders = [folder for folder in os.listdir(page_path) if folder.startswith('m')]\n",
    "\n",
    "for month_folder in month_folders:\n",
    "    month_path = os.path.join(page_path, month_folder)\n",
    "\n",
    "    # 월별 폴더의 파일 불러오기\n",
    "    for file in os.listdir(month_path):\n",
    "        if file.endswith('.csv'):\n",
    "           \n",
    "            file_path = os.path.join(month_path, file)\n",
    "            df = pd.read_csv(file_path)\n",
    "\n",
    "            # 날짜 컬럼을 파일명의 날짜로 사용\n",
    "            date = file[5:].replace('.csv', '').replace('_', '-')\n",
    "            df['date'] = date\n",
    "\n",
    "            merged_data.append(df)\n",
    "\n",
    "# 모든 데이터를 하나의 데이터프레임으로 병합\n",
    "page_df = pd.concat(merged_data, ignore_index=True)\n",
    "\n",
    "# 변수명 정리(영문전환), 사용하지 않는 컬럼 처리\n",
    "page_df.columns= ['page_name', 'url', 'page_views', 'date']\n",
    "page_df = page_df[['date', 'page_name', 'page_views']]\n",
    "page_df['date'] = pd.to_datetime(page_df['date'], errors='coerce')\n",
    "page_df.head(3)"
   ]
  },
  {
   "cell_type": "markdown",
   "metadata": {},
   "source": [
    "#### 3. 방문자 데이터 불러오기"
   ]
  },
  {
   "cell_type": "code",
   "execution_count": 128,
   "metadata": {},
   "outputs": [
    {
     "data": {
      "text/html": [
       "<div>\n",
       "<style scoped>\n",
       "    .dataframe tbody tr th:only-of-type {\n",
       "        vertical-align: middle;\n",
       "    }\n",
       "\n",
       "    .dataframe tbody tr th {\n",
       "        vertical-align: top;\n",
       "    }\n",
       "\n",
       "    .dataframe thead th {\n",
       "        text-align: right;\n",
       "    }\n",
       "</style>\n",
       "<table border=\"1\" class=\"dataframe\">\n",
       "  <thead>\n",
       "    <tr style=\"text-align: right;\">\n",
       "      <th></th>\n",
       "      <th>date</th>\n",
       "      <th>view</th>\n",
       "      <th>visitor</th>\n",
       "    </tr>\n",
       "  </thead>\n",
       "  <tbody>\n",
       "    <tr>\n",
       "      <th>0</th>\n",
       "      <td>2023-11-01</td>\n",
       "      <td>332</td>\n",
       "      <td>52</td>\n",
       "    </tr>\n",
       "    <tr>\n",
       "      <th>1</th>\n",
       "      <td>2023-11-02</td>\n",
       "      <td>164</td>\n",
       "      <td>31</td>\n",
       "    </tr>\n",
       "    <tr>\n",
       "      <th>2</th>\n",
       "      <td>2023-11-03</td>\n",
       "      <td>208</td>\n",
       "      <td>27</td>\n",
       "    </tr>\n",
       "  </tbody>\n",
       "</table>\n",
       "</div>"
      ],
      "text/plain": [
       "        date  view  visitor\n",
       "0 2023-11-01   332       52\n",
       "1 2023-11-02   164       31\n",
       "2 2023-11-03   208       27"
      ]
     },
     "execution_count": 128,
     "metadata": {},
     "output_type": "execute_result"
    }
   ],
   "source": [
    "# 설명 : 날짜별로 방문자, 페이지를 본 데이터\n",
    "\n",
    "# 경로 설정\n",
    "visitor_path = './data/visitor'\n",
    "\n",
    "# 방문자 파일 목록 가져오기 (엑셀 파일만 필터)\n",
    "visitor_files = [file for file in os.listdir(visitor_path) if file.endswith('.xlsx')]\n",
    "\n",
    "merged_visitor_data = []  # 데이터프레임 리스트\n",
    "\n",
    "# 각 파일 순회하며 읽기\n",
    "for file in visitor_files:\n",
    "    file_path = os.path.join(visitor_path, file)  # 파일 경로 설정\n",
    "    df = pd.read_excel(file_path)  # 엑셀 파일 읽기\n",
    "\n",
    "    merged_visitor_data.append(df)  # 리스트에 추가\n",
    "\n",
    "# 모든 데이터를 하나의 DataFrame으로 병합\n",
    "visitor_df = pd.concat(merged_visitor_data, ignore_index=True)\n",
    "\n",
    "# 변수명 정리(영문전환), 사용하지 않는 컬럼 처리\n",
    "visitor_df = visitor_df[['일자', '페이지뷰', '방문자']]\n",
    "visitor_df.columns = ['date', 'view', 'visitor']\n",
    "visitor_df['date'] = pd.to_datetime(visitor_df['date'])\n",
    "visitor_df.head(3)"
   ]
  }
 ],
 "metadata": {
  "kernelspec": {
   "display_name": "myenv",
   "language": "python",
   "name": "python3"
  },
  "language_info": {
   "codemirror_mode": {
    "name": "ipython",
    "version": 3
   },
   "file_extension": ".py",
   "mimetype": "text/x-python",
   "name": "python",
   "nbconvert_exporter": "python",
   "pygments_lexer": "ipython3",
   "version": "3.11.9"
  }
 },
 "nbformat": 4,
 "nbformat_minor": 2
}
